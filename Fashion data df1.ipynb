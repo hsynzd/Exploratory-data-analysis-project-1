{
 "cells": [
  {
   "cell_type": "code",
   "execution_count": 168,
   "id": "1b0dc84e",
   "metadata": {},
   "outputs": [
    {
     "name": "stdout",
     "output_type": "stream",
     "text": [
      "                         Product ID  \\\n",
      "0  eac7efa5dbd3d667f26eb3d3ab504464   \n",
      "1  b17540ef7e86e461d37f3ae58b7b72ac   \n",
      "2  348f344247b0c1a935b1223072ef9d8a   \n",
      "3  e12b92dbb8eaee78b22965d2a9bbbd9f   \n",
      "4  e33a9adeed5f36840ccc227db4682a36   \n",
      "\n",
      "                                        Product Name Manufacturer   Price  \\\n",
      "0                              Hornby 2014 Catalogue       Hornby   £3.42   \n",
      "1  FunkyBuys® Large Christmas Holiday Express Fes...    FunkyBuys  £16.99   \n",
      "2  CLASSIC TOY TRAIN SET TRACK CARRIAGES LIGHT EN...          ccf   £9.99   \n",
      "3     HORNBY Coach R4410A BR Hawksworth Corridor 3rd       Hornby  £39.99   \n",
      "4  Hornby 00 Gauge 0-4-0 Gildenlow Salt Co. Steam...       Hornby  £32.19   \n",
      "\n",
      "  Number of available in stock Number of Reviews      Average Rating  \n",
      "0                        5 new                15  4.9 out of 5 stars  \n",
      "1                          NaN                 2  4.5 out of 5 stars  \n",
      "2                        2 new                17  3.9 out of 5 stars  \n",
      "3                          NaN                 1  5.0 out of 5 stars  \n",
      "4                          NaN                 3  4.7 out of 5 stars  \n"
     ]
    }
   ],
   "source": [
    "# Importing libraries and the CSV file\n",
    "import numpy as np\n",
    "import pandas as pd\n",
    "import matplotlib.pyplot as plt\n",
    "import seaborn as sns\n",
    "df = pd.read_csv('Fashion data.csv')\n",
    "print(df.head())"
   ]
  },
  {
   "cell_type": "code",
   "execution_count": 169,
   "id": "9479e534",
   "metadata": {},
   "outputs": [
    {
     "name": "stdout",
     "output_type": "stream",
     "text": [
      "  Manufacturer   Price Number of available in stock Number of Reviews  \\\n",
      "0       Hornby   £3.42                        5 new                15   \n",
      "1    FunkyBuys  £16.99                          NaN                 2   \n",
      "2          ccf   £9.99                        2 new                17   \n",
      "3       Hornby  £39.99                          NaN                 1   \n",
      "4       Hornby  £32.19                          NaN                 3   \n",
      "\n",
      "       Average Rating  \n",
      "0  4.9 out of 5 stars  \n",
      "1  4.5 out of 5 stars  \n",
      "2  3.9 out of 5 stars  \n",
      "3  5.0 out of 5 stars  \n",
      "4  4.7 out of 5 stars  \n"
     ]
    }
   ],
   "source": [
    "# Dropping first two columns. They aren't useful for the analysis\n",
    "\n",
    "df = df.drop(['Product ID', 'Product Name'], axis=1)\n",
    "print(df.head())"
   ]
  },
  {
   "cell_type": "code",
   "execution_count": 170,
   "id": "6d9e6247",
   "metadata": {},
   "outputs": [
    {
     "name": "stdout",
     "output_type": "stream",
     "text": [
      "(10000, 5)\n"
     ]
    },
    {
     "data": {
      "text/html": [
       "<div>\n",
       "<style scoped>\n",
       "    .dataframe tbody tr th:only-of-type {\n",
       "        vertical-align: middle;\n",
       "    }\n",
       "\n",
       "    .dataframe tbody tr th {\n",
       "        vertical-align: top;\n",
       "    }\n",
       "\n",
       "    .dataframe thead th {\n",
       "        text-align: right;\n",
       "    }\n",
       "</style>\n",
       "<table border=\"1\" class=\"dataframe\">\n",
       "  <thead>\n",
       "    <tr style=\"text-align: right;\">\n",
       "      <th></th>\n",
       "      <th>Manufacturer</th>\n",
       "      <th>Price</th>\n",
       "      <th>Number of available in stock</th>\n",
       "      <th>Number of Reviews</th>\n",
       "      <th>Average Rating</th>\n",
       "    </tr>\n",
       "  </thead>\n",
       "  <tbody>\n",
       "    <tr>\n",
       "      <th>count</th>\n",
       "      <td>9993</td>\n",
       "      <td>8565</td>\n",
       "      <td>7500</td>\n",
       "      <td>9982</td>\n",
       "      <td>9982</td>\n",
       "    </tr>\n",
       "    <tr>\n",
       "      <th>unique</th>\n",
       "      <td>2651</td>\n",
       "      <td>2625</td>\n",
       "      <td>89</td>\n",
       "      <td>194</td>\n",
       "      <td>19</td>\n",
       "    </tr>\n",
       "    <tr>\n",
       "      <th>top</th>\n",
       "      <td>LEGO</td>\n",
       "      <td>£9.99</td>\n",
       "      <td>2 new</td>\n",
       "      <td>1</td>\n",
       "      <td>5.0 out of 5 stars</td>\n",
       "    </tr>\n",
       "    <tr>\n",
       "      <th>freq</th>\n",
       "      <td>171</td>\n",
       "      <td>189</td>\n",
       "      <td>1337</td>\n",
       "      <td>4315</td>\n",
       "      <td>5140</td>\n",
       "    </tr>\n",
       "  </tbody>\n",
       "</table>\n",
       "</div>"
      ],
      "text/plain": [
       "       Manufacturer  Price Number of available in stock Number of Reviews  \\\n",
       "count          9993   8565                         7500              9982   \n",
       "unique         2651   2625                           89               194   \n",
       "top            LEGO  £9.99                        2 new                 1   \n",
       "freq            171    189                         1337              4315   \n",
       "\n",
       "            Average Rating  \n",
       "count                 9982  \n",
       "unique                  19  \n",
       "top     5.0 out of 5 stars  \n",
       "freq                  5140  "
      ]
     },
     "execution_count": 170,
     "metadata": {},
     "output_type": "execute_result"
    }
   ],
   "source": [
    "# Looking at the size and the description of the dataframe\n",
    "\n",
    "print(df.shape)\n",
    "df.describe()"
   ]
  },
  {
   "cell_type": "code",
   "execution_count": 171,
   "id": "40c4b186",
   "metadata": {},
   "outputs": [
    {
     "name": "stdout",
     "output_type": "stream",
     "text": [
      "Manufacturer                       7\n",
      "Price                           1435\n",
      "Number of available in stock    2500\n",
      "Number of Reviews                 18\n",
      "Average Rating                    18\n",
      "dtype: int64\n"
     ]
    }
   ],
   "source": [
    "# Checking for NULL values\n",
    "\n",
    "print(df.isnull().sum())"
   ]
  },
  {
   "cell_type": "code",
   "execution_count": 172,
   "id": "82e06d1d",
   "metadata": {},
   "outputs": [],
   "source": [
    "# There are too many missing values in two columns. We will replace them with mode\n",
    "\n",
    "df['Price'] = df['Price'].fillna(df['Price'].mode()[0])\n",
    "df['Number of available in stock'] = df['Number of available in stock'].fillna(df['Number of available in stock'].mode()[0])"
   ]
  },
  {
   "cell_type": "code",
   "execution_count": 173,
   "id": "a1c66aea",
   "metadata": {},
   "outputs": [],
   "source": [
    "# We can drop the rest of the rows\n",
    "\n",
    "df = df[pd.notnull(df['Manufacturer'])]\n",
    "df = df[pd.notnull(df['Number of Reviews'])]\n",
    "df = df[pd.notnull(df['Average Rating'])]"
   ]
  },
  {
   "cell_type": "code",
   "execution_count": 174,
   "id": "0fca0016",
   "metadata": {},
   "outputs": [
    {
     "name": "stdout",
     "output_type": "stream",
     "text": [
      "Manufacturer                    0\n",
      "Price                           0\n",
      "Number of available in stock    0\n",
      "Number of Reviews               0\n",
      "Average Rating                  0\n",
      "dtype: int64\n"
     ]
    }
   ],
   "source": [
    "# There are no more NULL values\n",
    "\n",
    "print(df.isnull().sum())"
   ]
  },
  {
   "cell_type": "code",
   "execution_count": 175,
   "id": "efd2f0c1",
   "metadata": {},
   "outputs": [
    {
     "name": "stdout",
     "output_type": "stream",
     "text": [
      "Manufacturer                    object\n",
      "Price                           object\n",
      "Number of available in stock    object\n",
      "Number of Reviews               object\n",
      "Average Rating                  object\n",
      "dtype: object\n"
     ]
    }
   ],
   "source": [
    "# We will need to change some data types to int and float\n",
    "\n",
    "print(df.dtypes)"
   ]
  },
  {
   "cell_type": "code",
   "execution_count": 176,
   "id": "bbc2aca9",
   "metadata": {},
   "outputs": [
    {
     "name": "stdout",
     "output_type": "stream",
     "text": [
      "  Manufacturer   Price Number of available in stock Number of Reviews  \\\n",
      "0       Hornby   £3.42                        5 new                15   \n",
      "1    FunkyBuys  £16.99                        2 new                 2   \n",
      "2          ccf   £9.99                        2 new                17   \n",
      "3       Hornby  £39.99                        2 new                 1   \n",
      "4       Hornby  £32.19                        2 new                 3   \n",
      "\n",
      "       Average Rating  \n",
      "0  4.9 out of 5 stars  \n",
      "1  4.5 out of 5 stars  \n",
      "2  3.9 out of 5 stars  \n",
      "3  5.0 out of 5 stars  \n",
      "4  4.7 out of 5 stars  \n",
      "(9975, 5)\n"
     ]
    }
   ],
   "source": [
    "print(df.head())\n",
    "print(df.shape)"
   ]
  },
  {
   "cell_type": "code",
   "execution_count": 177,
   "id": "ba053d66",
   "metadata": {},
   "outputs": [],
   "source": [
    "# We will leave first column as it is\n",
    "# Some values aren't convertable in 'Number of Reviews' column. We will drop those rows\n",
    "\n",
    "df = df[df['Number of Reviews'] != '1,040']\n",
    "df = df[df['Number of Reviews'] != '1,399']"
   ]
  },
  {
   "cell_type": "code",
   "execution_count": 178,
   "id": "18ef777f",
   "metadata": {},
   "outputs": [
    {
     "name": "stdout",
     "output_type": "stream",
     "text": [
      "(9973, 5)\n"
     ]
    }
   ],
   "source": [
    "print(df.shape)"
   ]
  },
  {
   "cell_type": "code",
   "execution_count": 179,
   "id": "a67f3569",
   "metadata": {},
   "outputs": [],
   "source": [
    "# Converting values from string to float to integer because it should be a whole number\n",
    "\n",
    "df['Number of Reviews'] = df['Number of Reviews'].astype(str).astype(float).astype(int)"
   ]
  },
  {
   "cell_type": "code",
   "execution_count": 180,
   "id": "3e56f95c",
   "metadata": {},
   "outputs": [
    {
     "name": "stdout",
     "output_type": "stream",
     "text": [
      "Manufacturer                    object\n",
      "Price                           object\n",
      "Number of available in stock    object\n",
      "Number of Reviews                int32\n",
      "Average Rating                  object\n",
      "dtype: object\n"
     ]
    }
   ],
   "source": [
    "print(df.dtypes)"
   ]
  },
  {
   "cell_type": "code",
   "execution_count": 181,
   "id": "4dfbe3c3",
   "metadata": {},
   "outputs": [],
   "source": [
    "# We will need to extract values from strings in two columns\n",
    "# 'Number of available in stock' should be an integer while 'Price' can be a float\n",
    "\n",
    "df['Number of available in stock'] = df['Number of available in stock'].str.extract('(\\d+)')\n",
    "df['Number of available in stock'] = df['Number of available in stock'].astype(str).astype(int)\n",
    "df['Price'] = df['Price'].str.extract('(\\d+)')\n",
    "df['Price'] = df['Price'].astype(str).astype(float)"
   ]
  },
  {
   "cell_type": "code",
   "execution_count": 182,
   "id": "10984ab8",
   "metadata": {},
   "outputs": [
    {
     "name": "stdout",
     "output_type": "stream",
     "text": [
      "Manufacturer                     object\n",
      "Price                           float64\n",
      "Number of available in stock      int32\n",
      "Number of Reviews                 int32\n",
      "Average Rating                   object\n",
      "dtype: object\n"
     ]
    }
   ],
   "source": [
    "print(df.dtypes)"
   ]
  },
  {
   "cell_type": "code",
   "execution_count": 183,
   "id": "573192fd",
   "metadata": {},
   "outputs": [],
   "source": [
    "# We will extract the first part of this column. It will be a float\n",
    "\n",
    "df['Average Rating'] = df['Average Rating'].str.split(' ').str[0]\n",
    "df['Average Rating'] = df['Average Rating'].astype(str).astype(float)"
   ]
  },
  {
   "cell_type": "code",
   "execution_count": 184,
   "id": "a1694f82",
   "metadata": {},
   "outputs": [
    {
     "name": "stdout",
     "output_type": "stream",
     "text": [
      "Manufacturer                     object\n",
      "Price                           float64\n",
      "Number of available in stock      int32\n",
      "Number of Reviews                 int32\n",
      "Average Rating                  float64\n",
      "dtype: object\n"
     ]
    },
    {
     "data": {
      "text/html": [
       "<div>\n",
       "<style scoped>\n",
       "    .dataframe tbody tr th:only-of-type {\n",
       "        vertical-align: middle;\n",
       "    }\n",
       "\n",
       "    .dataframe tbody tr th {\n",
       "        vertical-align: top;\n",
       "    }\n",
       "\n",
       "    .dataframe thead th {\n",
       "        text-align: right;\n",
       "    }\n",
       "</style>\n",
       "<table border=\"1\" class=\"dataframe\">\n",
       "  <thead>\n",
       "    <tr style=\"text-align: right;\">\n",
       "      <th></th>\n",
       "      <th>Manufacturer</th>\n",
       "      <th>Price</th>\n",
       "      <th>Number of available in stock</th>\n",
       "      <th>Number of Reviews</th>\n",
       "      <th>Average Rating</th>\n",
       "    </tr>\n",
       "  </thead>\n",
       "  <tbody>\n",
       "    <tr>\n",
       "      <th>0</th>\n",
       "      <td>Hornby</td>\n",
       "      <td>3.0</td>\n",
       "      <td>5</td>\n",
       "      <td>15</td>\n",
       "      <td>4.9</td>\n",
       "    </tr>\n",
       "    <tr>\n",
       "      <th>1</th>\n",
       "      <td>FunkyBuys</td>\n",
       "      <td>16.0</td>\n",
       "      <td>2</td>\n",
       "      <td>2</td>\n",
       "      <td>4.5</td>\n",
       "    </tr>\n",
       "    <tr>\n",
       "      <th>2</th>\n",
       "      <td>ccf</td>\n",
       "      <td>9.0</td>\n",
       "      <td>2</td>\n",
       "      <td>17</td>\n",
       "      <td>3.9</td>\n",
       "    </tr>\n",
       "    <tr>\n",
       "      <th>3</th>\n",
       "      <td>Hornby</td>\n",
       "      <td>39.0</td>\n",
       "      <td>2</td>\n",
       "      <td>1</td>\n",
       "      <td>5.0</td>\n",
       "    </tr>\n",
       "    <tr>\n",
       "      <th>4</th>\n",
       "      <td>Hornby</td>\n",
       "      <td>32.0</td>\n",
       "      <td>2</td>\n",
       "      <td>3</td>\n",
       "      <td>4.7</td>\n",
       "    </tr>\n",
       "  </tbody>\n",
       "</table>\n",
       "</div>"
      ],
      "text/plain": [
       "  Manufacturer  Price  Number of available in stock  Number of Reviews  \\\n",
       "0       Hornby    3.0                             5                 15   \n",
       "1    FunkyBuys   16.0                             2                  2   \n",
       "2          ccf    9.0                             2                 17   \n",
       "3       Hornby   39.0                             2                  1   \n",
       "4       Hornby   32.0                             2                  3   \n",
       "\n",
       "   Average Rating  \n",
       "0             4.9  \n",
       "1             4.5  \n",
       "2             3.9  \n",
       "3             5.0  \n",
       "4             4.7  "
      ]
     },
     "execution_count": 184,
     "metadata": {},
     "output_type": "execute_result"
    }
   ],
   "source": [
    "# We converted all types in needed columns\n",
    "\n",
    "print(df.dtypes)\n",
    "df.head()"
   ]
  },
  {
   "cell_type": "code",
   "execution_count": 188,
   "id": "c38af983",
   "metadata": {},
   "outputs": [
    {
     "data": {
      "text/html": [
       "<div>\n",
       "<style scoped>\n",
       "    .dataframe tbody tr th:only-of-type {\n",
       "        vertical-align: middle;\n",
       "    }\n",
       "\n",
       "    .dataframe tbody tr th {\n",
       "        vertical-align: top;\n",
       "    }\n",
       "\n",
       "    .dataframe thead th {\n",
       "        text-align: right;\n",
       "    }\n",
       "</style>\n",
       "<table border=\"1\" class=\"dataframe\">\n",
       "  <thead>\n",
       "    <tr style=\"text-align: right;\">\n",
       "      <th></th>\n",
       "      <th>Price</th>\n",
       "      <th>Number of available in stock</th>\n",
       "      <th>Number of Reviews</th>\n",
       "      <th>Average Rating</th>\n",
       "    </tr>\n",
       "  </thead>\n",
       "  <tbody>\n",
       "    <tr>\n",
       "      <th>count</th>\n",
       "      <td>9973.000000</td>\n",
       "      <td>9973.000000</td>\n",
       "      <td>9973.000000</td>\n",
       "      <td>9973.000000</td>\n",
       "    </tr>\n",
       "    <tr>\n",
       "      <th>mean</th>\n",
       "      <td>17.833551</td>\n",
       "      <td>6.421338</td>\n",
       "      <td>8.881179</td>\n",
       "      <td>4.707340</td>\n",
       "    </tr>\n",
       "    <tr>\n",
       "      <th>std</th>\n",
       "      <td>35.623611</td>\n",
       "      <td>8.011196</td>\n",
       "      <td>28.887912</td>\n",
       "      <td>0.372269</td>\n",
       "    </tr>\n",
       "    <tr>\n",
       "      <th>min</th>\n",
       "      <td>0.000000</td>\n",
       "      <td>1.000000</td>\n",
       "      <td>1.000000</td>\n",
       "      <td>2.300000</td>\n",
       "    </tr>\n",
       "    <tr>\n",
       "      <th>25%</th>\n",
       "      <td>5.000000</td>\n",
       "      <td>2.000000</td>\n",
       "      <td>1.000000</td>\n",
       "      <td>4.500000</td>\n",
       "    </tr>\n",
       "    <tr>\n",
       "      <th>50%</th>\n",
       "      <td>9.000000</td>\n",
       "      <td>3.000000</td>\n",
       "      <td>2.000000</td>\n",
       "      <td>5.000000</td>\n",
       "    </tr>\n",
       "    <tr>\n",
       "      <th>75%</th>\n",
       "      <td>17.000000</td>\n",
       "      <td>7.000000</td>\n",
       "      <td>6.000000</td>\n",
       "      <td>5.000000</td>\n",
       "    </tr>\n",
       "    <tr>\n",
       "      <th>max</th>\n",
       "      <td>995.000000</td>\n",
       "      <td>92.000000</td>\n",
       "      <td>802.000000</td>\n",
       "      <td>5.000000</td>\n",
       "    </tr>\n",
       "  </tbody>\n",
       "</table>\n",
       "</div>"
      ],
      "text/plain": [
       "             Price  Number of available in stock  Number of Reviews  \\\n",
       "count  9973.000000                   9973.000000        9973.000000   \n",
       "mean     17.833551                      6.421338           8.881179   \n",
       "std      35.623611                      8.011196          28.887912   \n",
       "min       0.000000                      1.000000           1.000000   \n",
       "25%       5.000000                      2.000000           1.000000   \n",
       "50%       9.000000                      3.000000           2.000000   \n",
       "75%      17.000000                      7.000000           6.000000   \n",
       "max     995.000000                     92.000000         802.000000   \n",
       "\n",
       "       Average Rating  \n",
       "count     9973.000000  \n",
       "mean         4.707340  \n",
       "std          0.372269  \n",
       "min          2.300000  \n",
       "25%          4.500000  \n",
       "50%          5.000000  \n",
       "75%          5.000000  \n",
       "max          5.000000  "
      ]
     },
     "execution_count": 188,
     "metadata": {},
     "output_type": "execute_result"
    }
   ],
   "source": [
    "# Checking description again. Looks like there are many outliers\n",
    "\n",
    "df.describe()"
   ]
  },
  {
   "cell_type": "code",
   "execution_count": 189,
   "id": "11c88f0a",
   "metadata": {},
   "outputs": [
    {
     "data": {
      "text/html": [
       "<div>\n",
       "<style scoped>\n",
       "    .dataframe tbody tr th:only-of-type {\n",
       "        vertical-align: middle;\n",
       "    }\n",
       "\n",
       "    .dataframe tbody tr th {\n",
       "        vertical-align: top;\n",
       "    }\n",
       "\n",
       "    .dataframe thead th {\n",
       "        text-align: right;\n",
       "    }\n",
       "</style>\n",
       "<table border=\"1\" class=\"dataframe\">\n",
       "  <thead>\n",
       "    <tr style=\"text-align: right;\">\n",
       "      <th></th>\n",
       "      <th>Price</th>\n",
       "      <th>Number of available in stock</th>\n",
       "      <th>Number of Reviews</th>\n",
       "      <th>Average Rating</th>\n",
       "    </tr>\n",
       "  </thead>\n",
       "  <tbody>\n",
       "    <tr>\n",
       "      <th>Price</th>\n",
       "      <td>1.000000</td>\n",
       "      <td>0.004424</td>\n",
       "      <td>-0.026063</td>\n",
       "      <td>0.043345</td>\n",
       "    </tr>\n",
       "    <tr>\n",
       "      <th>Number of available in stock</th>\n",
       "      <td>0.004424</td>\n",
       "      <td>1.000000</td>\n",
       "      <td>0.210269</td>\n",
       "      <td>-0.013825</td>\n",
       "    </tr>\n",
       "    <tr>\n",
       "      <th>Number of Reviews</th>\n",
       "      <td>-0.026063</td>\n",
       "      <td>0.210269</td>\n",
       "      <td>1.000000</td>\n",
       "      <td>-0.126611</td>\n",
       "    </tr>\n",
       "    <tr>\n",
       "      <th>Average Rating</th>\n",
       "      <td>0.043345</td>\n",
       "      <td>-0.013825</td>\n",
       "      <td>-0.126611</td>\n",
       "      <td>1.000000</td>\n",
       "    </tr>\n",
       "  </tbody>\n",
       "</table>\n",
       "</div>"
      ],
      "text/plain": [
       "                                 Price  Number of available in stock  \\\n",
       "Price                         1.000000                      0.004424   \n",
       "Number of available in stock  0.004424                      1.000000   \n",
       "Number of Reviews            -0.026063                      0.210269   \n",
       "Average Rating                0.043345                     -0.013825   \n",
       "\n",
       "                              Number of Reviews  Average Rating  \n",
       "Price                                 -0.026063        0.043345  \n",
       "Number of available in stock           0.210269       -0.013825  \n",
       "Number of Reviews                      1.000000       -0.126611  \n",
       "Average Rating                        -0.126611        1.000000  "
      ]
     },
     "execution_count": 189,
     "metadata": {},
     "output_type": "execute_result"
    }
   ],
   "source": [
    "# Looking at correlation. There isn't a strong correlation\n",
    "\n",
    "df.corr()"
   ]
  },
  {
   "cell_type": "code",
   "execution_count": 191,
   "id": "873e290b",
   "metadata": {},
   "outputs": [
    {
     "data": {
      "image/png": "[encoded data removed]",
      "text/plain": [
       "<Figure size 1000x1000 with 4 Axes>"
      ]
     },
     "metadata": {},
     "output_type": "display_data"
    }
   ],
   "source": [
    "# Making box plots for each column. There are too many outliers\n",
    "\n",
    "data.plot(\n",
    "    kind='box',\n",
    "    subplots= True,\n",
    "    sharey= False,\n",
    "    figsize=(10,10)\n",
    ")\n",
    "plt.subplots_adjust(wspace=3)\n",
    "plt.show()"
   ]
  },
  {
   "cell_type": "code",
   "execution_count": null,
   "id": "88e99c87",
   "metadata": {},
   "outputs": [],
   "source": []
  }
 ],
 "metadata": {
  "kernelspec": {
   "display_name": "Python 3 (ipykernel)",
   "language": "python",
   "name": "python3"
  },
  "language_info": {
   "codemirror_mode": {
    "name": "ipython",
    "version": 3
   },
   "file_extension": ".py",
   "mimetype": "text/x-python",
   "name": "python",
   "nbconvert_exporter": "python",
   "pygments_lexer": "ipython3",
   "version": "3.9.13"
  }
 },
 "nbformat": 4,
 "nbformat_minor": 5
}
